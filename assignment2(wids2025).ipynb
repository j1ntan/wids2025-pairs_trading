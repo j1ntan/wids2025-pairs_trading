{
 "cells": [
  {
   "cell_type": "code",
   "execution_count": 13,
   "id": "70f0a654-ae22-4549-a871-a00d35f91db1",
   "metadata": {},
   "outputs": [
    {
     "name": "stdout",
     "output_type": "stream",
     "text": [
      "Defaulting to user installation because normal site-packages is not writeable\n",
      "Requirement already satisfied: pykalman in /Users/ayushmaandhanai/Library/Python/3.9/lib/python/site-packages (0.10.1)\n",
      "Requirement already satisfied: scikit-base<0.13.0 in /Users/ayushmaandhanai/Library/Python/3.9/lib/python/site-packages (from pykalman) (0.12.0)\n",
      "Requirement already satisfied: scipy<2.0.0 in /Users/ayushmaandhanai/Library/Python/3.9/lib/python/site-packages (from pykalman) (1.13.1)\n",
      "Requirement already satisfied: numpy<3 in /Users/ayushmaandhanai/Library/Python/3.9/lib/python/site-packages (from pykalman) (1.26.4)\n",
      "Requirement already satisfied: packaging in /Users/ayushmaandhanai/Library/Python/3.9/lib/python/site-packages (from pykalman) (24.2)\n",
      "\u001b[33mWARNING: You are using pip version 21.2.4; however, version 25.0 is available.\n",
      "You should consider upgrading via the '/Library/Developer/CommandLineTools/usr/bin/python3 -m pip install --upgrade pip' command.\u001b[0m\n",
      "Note: you may need to restart the kernel to use updated packages.\n"
     ]
    }
   ],
   "source": [
    "%pip install pykalman\n"
   ]
  },
  {
   "cell_type": "code",
   "execution_count": 14,
   "id": "2f21269d-1419-4a3f-855e-3fb8c5efddb1",
   "metadata": {},
   "outputs": [],
   "source": [
    "import pandas as pd\n",
    "pd.core.common.is_list_like = pd.api.types.is_list_like\n",
    "from pandas_datareader import data as pdr\n",
    "import datetime\n",
    "import yfinance as yf\n",
    "pdr.get_data_yahoo = pdr.get_data_yahoo\n",
    "import numpy as np\n",
    "import statsmodels\n",
    "import statsmodels.api as sm\n",
    "from statsmodels.tsa.stattools import coint, adfuller\n",
    "import warnings\n",
    "warnings.filterwarnings('ignore')\n",
    "from sklearn.ensemble import RandomForestRegressor\n",
    "from sklearn.metrics import mean_squared_error\n",
    "import matplotlib.pyplot as plt\n",
    "import seaborn as sns; sns.set(style=\"whitegrid\")\n",
    "from sklearn.metrics import mean_squared_error,mean_absolute_error\n",
    "\n",
    "from sklearn.model_selection import train_test_split\n",
    "import pykalman\n"
   ]
  },
  {
   "cell_type": "code",
   "execution_count": 15,
   "id": "2bb6334e-0ed7-42f5-98d6-3a2fff7e0624",
   "metadata": {},
   "outputs": [
    {
     "name": "stderr",
     "output_type": "stream",
     "text": [
      "[*********************100%***********************]  2 of 2 completed\n"
     ]
    },
    {
     "data": {
      "text/html": [
       "<div>\n",
       "<style scoped>\n",
       "    .dataframe tbody tr th:only-of-type {\n",
       "        vertical-align: middle;\n",
       "    }\n",
       "\n",
       "    .dataframe tbody tr th {\n",
       "        vertical-align: top;\n",
       "    }\n",
       "\n",
       "    .dataframe thead th {\n",
       "        text-align: right;\n",
       "    }\n",
       "</style>\n",
       "<table border=\"1\" class=\"dataframe\">\n",
       "  <thead>\n",
       "    <tr style=\"text-align: right;\">\n",
       "      <th>Ticker</th>\n",
       "      <th>ADBE</th>\n",
       "      <th>MSFT</th>\n",
       "    </tr>\n",
       "    <tr>\n",
       "      <th>Date</th>\n",
       "      <th></th>\n",
       "      <th></th>\n",
       "    </tr>\n",
       "  </thead>\n",
       "  <tbody>\n",
       "    <tr>\n",
       "      <th>2018-12-24</th>\n",
       "      <td>205.160004</td>\n",
       "      <td>88.722115</td>\n",
       "    </tr>\n",
       "    <tr>\n",
       "      <th>2018-12-26</th>\n",
       "      <td>222.949997</td>\n",
       "      <td>94.782722</td>\n",
       "    </tr>\n",
       "    <tr>\n",
       "      <th>2018-12-27</th>\n",
       "      <td>225.139999</td>\n",
       "      <td>95.367088</td>\n",
       "    </tr>\n",
       "    <tr>\n",
       "      <th>2018-12-28</th>\n",
       "      <td>223.130005</td>\n",
       "      <td>94.622505</td>\n",
       "    </tr>\n",
       "    <tr>\n",
       "      <th>2018-12-31</th>\n",
       "      <td>226.240005</td>\n",
       "      <td>95.734695</td>\n",
       "    </tr>\n",
       "  </tbody>\n",
       "</table>\n",
       "</div>"
      ],
      "text/plain": [
       "Ticker            ADBE       MSFT\n",
       "Date                             \n",
       "2018-12-24  205.160004  88.722115\n",
       "2018-12-26  222.949997  94.782722\n",
       "2018-12-27  225.139999  95.367088\n",
       "2018-12-28  223.130005  94.622505\n",
       "2018-12-31  226.240005  95.734695"
      ]
     },
     "execution_count": 15,
     "metadata": {},
     "output_type": "execute_result"
    }
   ],
   "source": [
    "start_date = datetime.datetime(2013, 1, 1)\n",
    "end_date = datetime.datetime(2019, 1, 1)\n",
    "\n",
    "stock_symbols = ['ADBE', 'MSFT']\n",
    "\n",
    "stock_prices = yf.download(stock_symbols, start_date, end_date)['Close']\n",
    "stock_prices.tail()"
   ]
  },
  {
   "cell_type": "code",
   "execution_count": 16,
   "id": "5d05c063-6578-4604-ab9f-0f22f9db2e38",
   "metadata": {},
   "outputs": [],
   "source": [
    "def kalman_filter_regression(stock_x, stock_y):\n",
    "    from pykalman import KalmanFilter\n",
    "\n",
    "    delta = 1e-3\n",
    "    transition_covariance = delta / (1 - delta) * np.eye(2)\n",
    "    observation_matrix = np.expand_dims(np.vstack([[stock_x], [np.ones(len(stock_x))]]).T, axis=1)\n",
    "\n",
    "    kalman_filter = KalmanFilter(n_dim_obs=1, n_dim_state=2,\n",
    "                      initial_state_mean=[0,0],\n",
    "                      initial_state_covariance=np.ones((2, 2)),\n",
    "                      transition_matrices=np.eye(2),\n",
    "                      observation_matrices=observation_matrix,\n",
    "                      observation_covariance=2,\n",
    "                      transition_covariance=transition_covariance)\n",
    "\n",
    "    state_means, state_covariances = kalman_filter.filter(stock_y.values)\n",
    "    return state_means"
   ]
  },
  {
   "cell_type": "code",
   "execution_count": 17,
   "id": "fabc626e-0ec1-4e38-8606-83fefbef8c30",
   "metadata": {},
   "outputs": [],
   "source": [
    "def calculate_trading_pnl(stock_data, kalman_states, price_spread, trans_cost=0.0005):\n",
    "    rolling_mean = price_spread.rolling(window=30).mean()\n",
    "    rolling_std = price_spread.rolling(window=30).std()\n",
    "    normalized_spread = (price_spread - rolling_mean) / rolling_std\n",
    "\n",
    "    trading_signals = pd.Series(0, index=stock_data.index)\n",
    "    trading_signals[normalized_spread < -2] = 1  \n",
    "    trading_signals[normalized_spread > 2] = -1  \n",
    "    trading_signals[(normalized_spread > -0) & (trading_signals == 1)] = 0  \n",
    "    trading_signals[(normalized_spread < 0) & (trading_signals == -1)] = 0  \n",
    "    trading_signals = trading_signals.ffill().fillna(0)\n",
    "\n",
    "    hedge_ratio = kalman_states[:, 1]\n",
    "    spread_returns = price_spread.diff() / (stock_data['ADBE'] * abs(hedge_ratio) + stock_data['MSFT'])\n",
    "    portfolio_returns = spread_returns * trading_signals.shift(1)\n",
    "\n",
    "    signal_changes = trading_signals.diff().fillna(0)\n",
    "    portfolio_returns -= abs(signal_changes) * trans_cost\n",
    "\n",
    "    cumulative_returns = (1 + portfolio_returns).cumprod()\n",
    "\n",
    "    return cumulative_returns"
   ]
  },
  {
   "cell_type": "code",
   "execution_count": 20,
   "id": "c45a279a-3328-41d0-bf66-ace56a1bd3a4",
   "metadata": {},
   "outputs": [
    {
     "data": {
      "image/png": "[encoded data removed]",
      "text/plain": [
       "<Figure size 1000x600 with 1 Axes>"
      ]
     },
     "metadata": {},
     "output_type": "display_data"
    }
   ],
   "source": [
    "state_means = kalman_filter_regression(stock_prices['ADBE'], stock_prices['MSFT'])\n",
    "price_spread = stock_prices['MSFT'] - (state_means[:, 0] + state_means[:, 1] * stock_prices['ADBE'])\n",
    "\n",
    "cumulative_returns = calculate_trading_pnl(stock_prices, state_means, price_spread)\n",
    "\n",
    "plt.figure(figsize=(10, 6))\n",
    "plt.plot(cumulative_returns, label='Cumulative PnL', color='green')\n",
    "plt.title('Cumulative PnL')\n",
    "plt.xlabel('Date')\n",
    "plt.ylabel('PnL')\n",
    "plt.legend()\n",
    "plt.grid()\n",
    "plt.show()"
   ]
  },
  {
   "cell_type": "code",
   "execution_count": null,
   "id": "e52fbf14-62a7-4cdb-8347-1485226db156",
   "metadata": {},
   "outputs": [],
   "source": []
  }
 ],
 "metadata": {
  "kernelspec": {
   "display_name": "Python 3",
   "language": "python",
   "name": "python3"
  },
  "language_info": {
   "codemirror_mode": {
    "name": "ipython",
    "version": 3
   },
   "file_extension": ".py",
   "mimetype": "text/x-python",
   "name": "python",
   "nbconvert_exporter": "python",
   "pygments_lexer": "ipython3",
   "version": "3.9.6"
  }
 },
 "nbformat": 4,
 "nbformat_minor": 5
}
